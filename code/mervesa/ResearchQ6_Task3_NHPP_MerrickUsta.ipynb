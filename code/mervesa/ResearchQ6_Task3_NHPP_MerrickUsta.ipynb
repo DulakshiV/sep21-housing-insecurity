{
 "cells": [
  {
   "cell_type": "code",
   "execution_count": 1,
   "id": "3972a0fb",
   "metadata": {},
   "outputs": [
    {
     "name": "stdout",
     "output_type": "stream",
     "text": [
      "Collecting gdown\n",
      "  Downloading gdown-3.13.1.tar.gz (10 kB)\n",
      "  Installing build dependencies ... \u001b[?25ldone\n",
      "\u001b[?25h  Getting requirements to build wheel ... \u001b[?25ldone\n",
      "\u001b[?25h    Preparing wheel metadata ... \u001b[?25ldone\n",
      "\u001b[?25hRequirement already satisfied: requests[socks]>=2.12.0 in /Users/m0u00pf/anaconda3/lib/python3.8/site-packages (from gdown) (2.25.1)\n",
      "Requirement already satisfied: tqdm in /Users/m0u00pf/anaconda3/lib/python3.8/site-packages (from gdown) (4.59.0)\n",
      "Requirement already satisfied: filelock in /Users/m0u00pf/anaconda3/lib/python3.8/site-packages (from gdown) (3.0.12)\n",
      "Requirement already satisfied: six in /Users/m0u00pf/anaconda3/lib/python3.8/site-packages (from gdown) (1.15.0)\n",
      "Requirement already satisfied: chardet<5,>=3.0.2 in /Users/m0u00pf/anaconda3/lib/python3.8/site-packages (from requests[socks]>=2.12.0->gdown) (4.0.0)\n",
      "Requirement already satisfied: certifi>=2017.4.17 in /Users/m0u00pf/anaconda3/lib/python3.8/site-packages (from requests[socks]>=2.12.0->gdown) (2020.12.5)\n",
      "Requirement already satisfied: urllib3<1.27,>=1.21.1 in /Users/m0u00pf/anaconda3/lib/python3.8/site-packages (from requests[socks]>=2.12.0->gdown) (1.26.4)\n",
      "Requirement already satisfied: idna<3,>=2.5 in /Users/m0u00pf/anaconda3/lib/python3.8/site-packages (from requests[socks]>=2.12.0->gdown) (2.10)\n",
      "Requirement already satisfied: PySocks!=1.5.7,>=1.5.6 in /Users/m0u00pf/anaconda3/lib/python3.8/site-packages (from requests[socks]>=2.12.0->gdown) (1.7.1)\n",
      "Building wheels for collected packages: gdown\n",
      "  Building wheel for gdown (PEP 517) ... \u001b[?25ldone\n",
      "\u001b[?25h  Created wheel for gdown: filename=gdown-3.13.1-py3-none-any.whl size=9907 sha256=72e2e5f70e485e5985d38236e4bf920ba4176b324b7fff3a257a34b39e96d4f8\n",
      "  Stored in directory: /Users/m0u00pf/Library/Caches/pip/wheels/83/7c/1a/2372fea4f18e307a61815b0159dcdf61a46ccb14909ce4ce3c\n",
      "Successfully built gdown\n",
      "Installing collected packages: gdown\n",
      "Successfully installed gdown-3.13.1\n"
     ]
    }
   ],
   "source": [
    "!pip install gdown"
   ]
  },
  {
   "cell_type": "code",
   "execution_count": 11,
   "id": "7f7abe6a",
   "metadata": {},
   "outputs": [
    {
     "name": "stderr",
     "output_type": "stream",
     "text": [
      "Downloading...\n",
      "From: https://drive.google.com/u/0/uc?id=19EMDNi6AT4pecx_iWltZv0GxLYqv4Eof&export=download\n",
      "To: /Users/m0u00pf/sep21-housing-insecurity/code/mervesa/data/active_and_inconclusive_communities.xlsx\n",
      "44.4MB [00:01, 26.4MB/s]\n"
     ]
    },
    {
     "data": {
      "text/plain": [
       "'./data/active_and_inconclusive_communities.xlsx'"
      ]
     },
     "execution_count": 11,
     "metadata": {},
     "output_type": "execute_result"
    }
   ],
   "source": [
    "#Download the NHPP data into the ./data/ folder\n",
    "import gdown\n",
    "import os\n",
    "\n",
    "url = 'https://drive.google.com/u/0/uc?id=19EMDNi6AT4pecx_iWltZv0GxLYqv4Eof&export=download'\n",
    "output = './data/active_and_inconclusive_communities.xlsx'\n",
    "gdown.download(url, output, quiet=False)\n"
   ]
  },
  {
   "cell_type": "code",
   "execution_count": null,
   "id": "e544c98a",
   "metadata": {},
   "outputs": [],
   "source": [
    "#Read the downloaded file\n",
    "import pandas as pd\n",
    "pd.read_excel('../')"
   ]
  }
 ],
 "metadata": {
  "kernelspec": {
   "display_name": "Python 3",
   "language": "python",
   "name": "python3"
  },
  "language_info": {
   "codemirror_mode": {
    "name": "ipython",
    "version": 3
   },
   "file_extension": ".py",
   "mimetype": "text/x-python",
   "name": "python",
   "nbconvert_exporter": "python",
   "pygments_lexer": "ipython3",
   "version": "3.8.8"
  }
 },
 "nbformat": 4,
 "nbformat_minor": 5
}
