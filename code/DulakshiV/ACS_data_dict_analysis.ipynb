{
 "cells": [
  {
   "cell_type": "code",
   "execution_count": 1,
   "metadata": {},
   "outputs": [],
   "source": [
    "import pandas as pd"
   ]
  },
  {
   "cell_type": "code",
   "execution_count": 2,
   "metadata": {},
   "outputs": [],
   "source": [
    "variable_dict_df = pd.read_csv('Data/American Community Survey Data/acs5_variable_dict_2014_2019.csv')"
   ]
  },
  {
   "cell_type": "code",
   "execution_count": 3,
   "metadata": {},
   "outputs": [
    {
     "data": {
      "text/html": [
       "<div>\n",
       "<style scoped>\n",
       "    .dataframe tbody tr th:only-of-type {\n",
       "        vertical-align: middle;\n",
       "    }\n",
       "\n",
       "    .dataframe tbody tr th {\n",
       "        vertical-align: top;\n",
       "    }\n",
       "\n",
       "    .dataframe thead th {\n",
       "        text-align: right;\n",
       "    }\n",
       "</style>\n",
       "<table border=\"1\" class=\"dataframe\">\n",
       "  <thead>\n",
       "    <tr style=\"text-align: right;\">\n",
       "      <th></th>\n",
       "      <th>variable_code</th>\n",
       "      <th>label</th>\n",
       "      <th>concept</th>\n",
       "      <th>predicateType</th>\n",
       "      <th>group</th>\n",
       "      <th>limit</th>\n",
       "      <th>predicateOnly</th>\n",
       "      <th>acs_year</th>\n",
       "    </tr>\n",
       "  </thead>\n",
       "  <tbody>\n",
       "    <tr>\n",
       "      <th>0</th>\n",
       "      <td>DP02_0019EA</td>\n",
       "      <td>Annotation of Estimate!!RELATIONSHIP!!Populati...</td>\n",
       "      <td>SELECTED SOCIAL CHARACTERISTICS IN THE UNITED ...</td>\n",
       "      <td>string</td>\n",
       "      <td>DP02</td>\n",
       "      <td>0</td>\n",
       "      <td>True</td>\n",
       "      <td>2014</td>\n",
       "    </tr>\n",
       "    <tr>\n",
       "      <th>1</th>\n",
       "      <td>DP02_0126E</td>\n",
       "      <td>Estimate!!ANCESTRY!!Total population!!Danish</td>\n",
       "      <td>SELECTED SOCIAL CHARACTERISTICS IN THE UNITED ...</td>\n",
       "      <td>int</td>\n",
       "      <td>DP02</td>\n",
       "      <td>0</td>\n",
       "      <td>True</td>\n",
       "      <td>2014</td>\n",
       "    </tr>\n",
       "    <tr>\n",
       "      <th>2</th>\n",
       "      <td>DP02_0072EA</td>\n",
       "      <td>Annotation of Estimate!!DISABILITY STATUS OF T...</td>\n",
       "      <td>SELECTED SOCIAL CHARACTERISTICS IN THE UNITED ...</td>\n",
       "      <td>string</td>\n",
       "      <td>DP02</td>\n",
       "      <td>0</td>\n",
       "      <td>True</td>\n",
       "      <td>2014</td>\n",
       "    </tr>\n",
       "    <tr>\n",
       "      <th>3</th>\n",
       "      <td>DP02_0069PMA</td>\n",
       "      <td>Annotation of Percent Margin of Error!!VETERAN...</td>\n",
       "      <td>SELECTED SOCIAL CHARACTERISTICS IN THE UNITED ...</td>\n",
       "      <td>string</td>\n",
       "      <td>DP02</td>\n",
       "      <td>0</td>\n",
       "      <td>True</td>\n",
       "      <td>2014</td>\n",
       "    </tr>\n",
       "    <tr>\n",
       "      <th>4</th>\n",
       "      <td>DP02_0126M</td>\n",
       "      <td>Margin of Error!!ANCESTRY!!Total population!!D...</td>\n",
       "      <td>SELECTED SOCIAL CHARACTERISTICS IN THE UNITED ...</td>\n",
       "      <td>int</td>\n",
       "      <td>DP02</td>\n",
       "      <td>0</td>\n",
       "      <td>True</td>\n",
       "      <td>2014</td>\n",
       "    </tr>\n",
       "  </tbody>\n",
       "</table>\n",
       "</div>"
      ],
      "text/plain": [
       "  variable_code                                              label  \\\n",
       "0   DP02_0019EA  Annotation of Estimate!!RELATIONSHIP!!Populati...   \n",
       "1    DP02_0126E       Estimate!!ANCESTRY!!Total population!!Danish   \n",
       "2   DP02_0072EA  Annotation of Estimate!!DISABILITY STATUS OF T...   \n",
       "3  DP02_0069PMA  Annotation of Percent Margin of Error!!VETERAN...   \n",
       "4    DP02_0126M  Margin of Error!!ANCESTRY!!Total population!!D...   \n",
       "\n",
       "                                             concept predicateType group  \\\n",
       "0  SELECTED SOCIAL CHARACTERISTICS IN THE UNITED ...        string  DP02   \n",
       "1  SELECTED SOCIAL CHARACTERISTICS IN THE UNITED ...           int  DP02   \n",
       "2  SELECTED SOCIAL CHARACTERISTICS IN THE UNITED ...        string  DP02   \n",
       "3  SELECTED SOCIAL CHARACTERISTICS IN THE UNITED ...        string  DP02   \n",
       "4  SELECTED SOCIAL CHARACTERISTICS IN THE UNITED ...           int  DP02   \n",
       "\n",
       "   limit  predicateOnly  acs_year  \n",
       "0      0           True      2014  \n",
       "1      0           True      2014  \n",
       "2      0           True      2014  \n",
       "3      0           True      2014  \n",
       "4      0           True      2014  "
      ]
     },
     "execution_count": 3,
     "metadata": {},
     "output_type": "execute_result"
    }
   ],
   "source": [
    "variable_dict_df.head()"
   ]
  },
  {
   "cell_type": "code",
   "execution_count": 4,
   "metadata": {},
   "outputs": [
    {
     "data": {
      "text/plain": [
       "acs_year\n",
       "2014    4088\n",
       "2019    4176\n",
       "Name: variable_code, dtype: int64"
      ]
     },
     "execution_count": 4,
     "metadata": {},
     "output_type": "execute_result"
    }
   ],
   "source": [
    "#Count the No. of variable codes in 2014 and 2019\n",
    "variable_dict_df.groupby('acs_year')['variable_code'].count()"
   ]
  },
  {
   "cell_type": "markdown",
   "metadata": {},
   "source": [
    "There are more variable codes in 2019 than in 2014. To be exact, there are 88 extra codes in 2019"
   ]
  },
  {
   "cell_type": "code",
   "execution_count": 5,
   "metadata": {},
   "outputs": [],
   "source": [
    "# Check what variable_codes appear in 2014 set alone or 2019 set alone\n",
    "variable_dict_2014 = variable_dict_df.loc[variable_dict_df['acs_year']==2014]\n",
    "variable_dict_2019 = variable_dict_df.loc[variable_dict_df['acs_year']==2019]"
   ]
  },
  {
   "cell_type": "code",
   "execution_count": 6,
   "metadata": {},
   "outputs": [],
   "source": [
    "# Find variable codes that appear in 2014 but not in 2019\n",
    "variable_code_2019 = variable_dict_2019['variable_code'].tolist()\n",
    "for variable_code in variable_dict_2014['variable_code']:\n",
    "    if variable_code not in variable_code_2019:\n",
    "        print(variable_code)"
   ]
  },
  {
   "cell_type": "markdown",
   "metadata": {},
   "source": [
    "All varible codes that appear in 2014 also appear in 2019"
   ]
  },
  {
   "cell_type": "code",
   "execution_count": 7,
   "metadata": {
    "scrolled": true
   },
   "outputs": [
    {
     "name": "stdout",
     "output_type": "stream",
     "text": [
      "DP02_0153PEA\n",
      "DP02_0153PMA\n",
      "DP02_0153EA\n",
      "DP02_0153MA\n",
      "DP02_0153PE\n",
      "DP02_0153PM\n",
      "DP02_0153M\n",
      "DP02_0153E\n",
      "DP04_0143PEA\n",
      "DP04_0143PMA\n",
      "DP04_0142EA\n",
      "DP04_0142MA\n",
      "DP04_0142PM\n",
      "DP04_0142PE\n",
      "DP04_0143EA\n",
      "DP04_0143MA\n",
      "DP04_0143PM\n",
      "DP04_0143PE\n",
      "DP04_0142PEA\n",
      "DP04_0142PMA\n",
      "DP04_0143M\n",
      "DP04_0143E\n",
      "DP04_0142M\n",
      "DP04_0142E\n",
      "DP05_0089PMA\n",
      "DP05_0089PEA\n",
      "DP05_0082EA\n",
      "DP05_0082MA\n",
      "DP05_0082PM\n",
      "DP05_0082PE\n",
      "DP05_0083EA\n",
      "DP05_0084PMA\n",
      "DP05_0084PEA\n",
      "DP05_0088EA\n",
      "DP05_0088M\n",
      "DP05_0088E\n",
      "DP05_0087M\n",
      "DP05_0089M\n",
      "DP05_0089E\n",
      "DP05_0087PMA\n",
      "DP05_0084E\n",
      "DP05_0083M\n",
      "DP05_0085E\n",
      "DP05_0084M\n",
      "DP05_0088MA\n",
      "DP05_0086E\n",
      "DP05_0088PM\n",
      "DP05_0085M\n",
      "DP05_0088PE\n",
      "DP05_0087E\n",
      "DP05_0086M\n",
      "DP05_0087PEA\n",
      "DP05_0082E\n",
      "DP05_0083E\n",
      "DP05_0082M\n",
      "DP05_0089EA\n",
      "DP05_0089MA\n",
      "DP05_0089PM\n",
      "DP05_0089PE\n",
      "DP05_0085PM\n",
      "DP05_0085PE\n",
      "DP05_0082PEA\n",
      "DP05_0082PMA\n",
      "DP05_0085PMA\n",
      "DP05_0086EA\n",
      "DP05_0085PEA\n",
      "DP05_0086MA\n",
      "DP05_0086PM\n",
      "DP05_0086PE\n",
      "DP05_0088PMA\n",
      "DP05_0088PEA\n",
      "DP05_0087EA\n",
      "DP05_0087MA\n",
      "DP05_0087PM\n",
      "DP05_0087PE\n",
      "DP05_0083MA\n",
      "DP05_0083PM\n",
      "DP05_0083PE\n",
      "DP05_0083PMA\n",
      "DP05_0084EA\n",
      "DP05_0084MA\n",
      "DP05_0083PEA\n",
      "DP05_0084PM\n",
      "DP05_0084PE\n",
      "DP05_0086PMA\n",
      "DP05_0085EA\n",
      "DP05_0085MA\n",
      "DP05_0086PEA\n"
     ]
    }
   ],
   "source": [
    "# Find variable codes that appear in 2019 but not in 2014\n",
    "variable_code_2014 = variable_dict_2014['variable_code'].tolist()\n",
    "for variable_code in variable_dict_2019['variable_code']:\n",
    "    if variable_code not in variable_code_2014:\n",
    "        print(variable_code)"
   ]
  },
  {
   "cell_type": "code",
   "execution_count": null,
   "metadata": {},
   "outputs": [],
   "source": []
  },
  {
   "cell_type": "code",
   "execution_count": null,
   "metadata": {},
   "outputs": [],
   "source": []
  }
 ],
 "metadata": {
  "kernelspec": {
   "display_name": "Python 3",
   "language": "python",
   "name": "python3"
  },
  "language_info": {
   "codemirror_mode": {
    "name": "ipython",
    "version": 3
   },
   "file_extension": ".py",
   "mimetype": "text/x-python",
   "name": "python",
   "nbconvert_exporter": "python",
   "pygments_lexer": "ipython3",
   "version": "3.7.1"
  }
 },
 "nbformat": 4,
 "nbformat_minor": 2
}
